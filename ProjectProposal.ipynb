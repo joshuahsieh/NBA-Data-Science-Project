{
 "cells": [
  {
   "cell_type": "markdown",
   "metadata": {},
   "source": [
    "# COGS 108 - Project Proposal"
   ]
  },
  {
   "cell_type": "markdown",
   "metadata": {},
   "source": [
    "## Important\n",
    "\n",
    "- Make sure all group members (3-6 people) are listed in the group members section.\n",
    "- ONE, and only one, member of your group should upload this notebook to TritonED. \n",
    "- Each member of the group will receive the same grade on this assignment. \n",
    "- Keep the file name the same: submit the file 'ProjectProposal.ipynb'"
   ]
  },
  {
   "cell_type": "markdown",
   "metadata": {},
   "source": [
    "## Overview"
   ]
  },
  {
   "cell_type": "markdown",
   "metadata": {},
   "source": [
    "Read the project description and detailed instructions for this assignment in the 'ProjectOutline' document."
   ]
  },
  {
   "cell_type": "markdown",
   "metadata": {},
   "source": [
    "## Group Members: Fill in the Student IDs of each group member here\n",
    "\n",
    "Replace the lines below to list each persons full student ID. Add lines as needed for your group size, and make sure each ID is listed on a separate line. \n",
    "\n",
    "- A13457606\n",
    "- A13433190\n",
    "- A13758500\n",
    "- A13482251\n",
    "- A14005438\n",
    "- A13543356"
   ]
  },
  {
   "cell_type": "markdown",
   "metadata": {},
   "source": [
    "### Research Question\n",
    "\n",
    "What is your research question? (1-2 sentences)"
   ]
  },
  {
   "cell_type": "markdown",
   "metadata": {},
   "source": [
    "Has the effectivness of the 3pt shot increased over time in the NBA? We will be looking at the correlation between attempted 3 pointers and win percentages."
   ]
  },
  {
   "cell_type": "markdown",
   "metadata": {},
   "source": [
    "### Hypothesis\n",
    "\n",
    "What is your main hypothesis and predictions? (2-3 sentences)"
   ]
  },
  {
   "cell_type": "markdown",
   "metadata": {},
   "source": [
    "We believe the number of 3 point shots attempted have increased since the inception of the 3 pointer; however, we don't believe this increase in 3 point shot attempts is positively correlated with win percentages."
   ]
  },
  {
   "cell_type": "markdown",
   "metadata": {},
   "source": [
    "### Dataset(s)\n",
    "\n",
    "What data will you use to answer your question? Describe the dataset(s) in terms of number of observations, what kind of features it contains, etc. You must use at least one dataset containing at least approximately 1000 observations (if your data are smaller but you feel they are sufficient, email Prof. Voytek). You are welcome (and in fact recommended) to find multiple datasets! If you do so, describe each one, and briefly explain how you will combine them together. "
   ]
  },
  {
   "cell_type": "markdown",
   "metadata": {},
   "source": [
    "*Fill in your dataset information here*\n",
    "\n",
    "(Copy this information for each dataset)\n",
    "- Dataset Name: Basketball-Reference\n",
    "- Link to the dataset: https://www.basketball-reference.com/leagues/NBA_1980.html#all_team-stats-per_game\n",
    "- Number of observations: 1000\n",
    "\n",
    "1-2 sentences describing the dataset. \n",
    "\n",
    "The datasets provide information on each team for each season on their win percentages and three point attempts.\n",
    "\n",
    "If you plan to use multiple datasets, add 1-2 sentences about how you plan to combine these datasets.\n",
    "\n",
    "We will be using multiple tables from the same reference. "
   ]
  },
  {
   "cell_type": "markdown",
   "metadata": {},
   "source": [
    "### Background and Prior Work\n",
    "\n",
    "Why is this question of interest, what background information led you to your hypothesis, and why is this important?\n",
    "\n",
    "Find some relevant prior work, and reference those sources. Even if you think you have a totally novel question, find the most similar prior work that you can and discuss how it relates to your project. \n",
    "\n",
    "References can be research publications, but they need not be. Blogs, github repositories, company websites, etc., are all viable references if they are relevant to your project.\n",
    "\n",
    "(2-3 paragraphs, including at least 2 references)"
   ]
  },
  {
   "cell_type": "markdown",
   "metadata": {},
   "source": [
    "*Fill in your background and prior work here* \n",
    "This question is of interest because with the emergence of the Warriors as a powerhouse in the NBA, the conversation of shooting a large amount of three-pointers as an effective offensive plan has gained steam. When listening to the opinion of multiple sports commentaters, everyone seems to have a different opinion on whether the style of play that emphasizes the three pointer is truly more effective than the traditional offensive plan of focusing on closer shots. \n",
    "\n",
    "The background information we have taken into consideration when predicting the number of three point shots has increased over time is the fact that commentators often speak of how the game is evolving away from the center being the most prominent position to the guard, since in the current NBA, shooting has become a much more emphasized skill. In addition, with the style of play of the Warriors, the most recent NBA champions, and other teams in the NBA, it seems as though teams are starting to make the three-pointer a more critical part of the offense. In addition, we do not believe this increase in attempts actually leads to a more effective offensive strategy which we measure in terms of win percentage because while a three-pointer leads to more points, it is a more difficult shot with a lower field-goal percentage. Hence, we believe that trading in a normal field goal which has a higher chance of going in with a three-pointer actually offsets the effectiveness of the offense, in turn not providing a positive correlation to win percentage. \n",
    "\n",
    "\n",
    "References (include links):\n",
    "- 1) https://www.nytimes.com/2016/01/21/sports/basketball/how-the-nba-3-point-shot-went-from-gimmick-to-game-changer.html\n",
    "- 2) https://www.nytimes.com/2015/12/06/sports/basketball/shooting-efficiency-starts-to-waver-as-the-3-point-bricks-fly.html"
   ]
  },
  {
   "cell_type": "markdown",
   "metadata": {},
   "source": [
    "### Proposed Methods\n",
    "\n",
    "What methods will you use to analyze your data?\n",
    "\n",
    "- How 'clean' is the data? To the extent that it requires cleaning, how will you do so?\n",
    "- How will you analyze the data? Be as specific as you can. Briefly mention any pre-processing steps that are required for your methods (for example, checking data distributions and performing any transformations that may be required). Include a brief outline of how you will apply your chosen method(s). \n",
    "- What do you plan to report? Briefly mention any key visualizations you plan to create, and/or the kind of results you will be able to report that address your question (this could be, for example, the outcome of some statistical test(s), prediction error on a model, a model fit parameter, etc.).\n",
    "- Include a list of packages you expect to use for you project. If you plan to use packages we have not used in class, add a very brief description about them (a few words is sufficient). "
   ]
  },
  {
   "cell_type": "markdown",
   "metadata": {},
   "source": [
    "*Fill in your proposed methods information here:*\n",
    "\n",
    "*Data Cleaning (2-3 sentences)*\n",
    "The data is fairly clean. We will need to drop columns in the tables that are irrelevant to our research question. Furthermore, we will need to join multiple tables in order to view our data as a whole and interpret correlations.\n",
    "\n",
    "*Data Analysis (1-2 paragraphs)*\n",
    "    In order to analyze the effectiveness of the 3 point shot, we need to normalize the data across each season. This is because we need to control for a difference in 3 point attempts year to year. We will attempt to do this by comparing the number of 3 point attempts in each year with the 3 point attempt average for each specific year. This way, the predicted increase in 3 point attempts throughout the decades will not affect the weight each 3 point attempt has on win percentage. \n",
    "    To compare the data about the three point shots attempted over time, we will aggregate the data of the number of three point shots of each team per game for every season since 1979. Then, we will create an average for the number of three point shots attempted per game for each season and compare it throughout all seasons to draw a conclusion about the frequency of the three point shot over time. \n",
    "\n",
    "*What to report (2-3 sentences)*\n",
    "    We want to illustrate the relationship between three point shots attempted as a function of time, from 1979 to present. To do so, we will use key visualizations such as line graphs. By using this visualization, it will be easy to visualize whether or not 3 point attempts are increasing over time.  \n",
    "\n",
    "\n",
    "Packages we plan to use:\n",
    "- a numpy\n",
    "- b pandas\n",
    "- c matplotlib.pyplot"
   ]
  },
  {
   "cell_type": "markdown",
   "metadata": {},
   "source": [
    "### Ethics and Privacy\n",
    "\n",
    "Briefly acknowledge and address any potential issues of ethics and privacy for the proposed project. In particular:\n",
    "- Do you have permission to use this data, for this purpose?\n",
    "- Are there privacy concerns regarding your datasets that you need to deal with, and/or terms of use that you need to comply with?\n",
    "- Are there potential biases in your dataset(s), in terms of who it composes, and how it was collected, that may be problematic in terms of it allowing for equitable analysis? (For example, does your data exclude particular populations, or is it likely to reflect particular human biases in a way that could be a problem?) \n",
    "- Are there any other issues related to your topic area, data, and/or analyses that are potentially problematic in terms of data privacy and equitable impact?\n",
    "- How will you handle any issues you identify?\n",
    "\n",
    "(1-2 paragraphs)"
   ]
  },
  {
   "cell_type": "markdown",
   "metadata": {},
   "source": [
    "    Yes, we have permission to use this data, as facts cannot be copyrighted, and it is a publicly available dataset. There are no privacy concerns with this dataset, as it does not contain any personal information aside from first and last names, and these people are public figures. There are no biases within the dataset, as stats were collected from every team each year. The only issue we may encounter is if we need further information. In this case, we would have to pay this website for a custom dataset, so instead we would most likely choose to look for a different data set from another publicly available resource or site."
   ]
  },
  {
   "cell_type": "markdown",
   "metadata": {},
   "source": [
    "### Discussion\n",
    "\n",
    "Discuss your project, looking forward to what your results might mean, how they fit it in with what is already known, and what problems you may encounter. \n",
    "\n",
    "In particular:\n",
    "- If your analyses and hypotheses are correct, what will be the contribution of this project to the topic domain? \n",
    "- Alternatively, what will you do if you methods don't work and/or your hypotheses are wrong? \n",
    "- What are the potential pitfalls and potential confounds of your data and/or methods that may cause problems, and/or influence your interpretations?\n",
    "\n",
    "(2-3 paragraphs)"
   ]
  },
  {
   "cell_type": "markdown",
   "metadata": {},
   "source": [
    "If our analyses and hypotheses are correct, our project may suggest methods that an arbitrary basketball team can use to be successful. The results may explain why, if there is, an increase in the number of 3 point attempts over the past few decades of NBA history. We assume that the analysts of these various NBA teams will have conclusions very similar to the ones we will make after analyzing the data, and thus our conclusions will be relevant to how NBA teams play in the modern age.\n",
    "\n",
    "However, if our analyses and hypotheses are wrong, there are two reasons for this to happen: if there is either no correlation, and if there is a negative correlation. If there is no correlation, then we know that any increase in 3 point attempts has no relation to winning percentage, and there may be some other underlying factor or potentially too many variables in general to determine how a team can win. If there is a negative correlation, it may allow us to propose other conclusions. If our methods don't work, then we will propose new methods to use and test them.\n",
    "\n",
    "Potential pitfalls for us are our own personal biases on the interpretation of the data. Since we are proposing our own hypothesis, we might give more weight to the data that supports our claims. We should not look for confirmation of our hypothesis, but rather form an objective conclusion and compare it to our hypothesis afterwards. There might also be strange data that will be hard to explain, and skew our data. "
   ]
  },
  {
   "cell_type": "code",
   "execution_count": null,
   "metadata": {
    "collapsed": true
   },
   "outputs": [],
   "source": []
  }
 ],
 "metadata": {
  "kernelspec": {
   "display_name": "Python 3",
   "language": "python",
   "name": "python3"
  },
  "language_info": {
   "codemirror_mode": {
    "name": "ipython",
    "version": 3
   },
   "file_extension": ".py",
   "mimetype": "text/x-python",
   "name": "python",
   "nbconvert_exporter": "python",
   "pygments_lexer": "ipython3",
   "version": "3.6.3"
  }
 },
 "nbformat": 4,
 "nbformat_minor": 2
}
